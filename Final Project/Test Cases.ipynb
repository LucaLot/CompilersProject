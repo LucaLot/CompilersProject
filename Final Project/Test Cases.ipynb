{
 "cells": [
  {
   "cell_type": "markdown",
   "id": "4a1eb519-9a0a-4cb4-81e0-3f8f8996046c",
   "metadata": {},
   "source": [
    "# Final Test Cases"
   ]
  },
  {
   "cell_type": "code",
   "execution_count": null,
   "id": "b933e367-3adf-4607-b9da-909b417e555b",
   "metadata": {
    "tags": []
   },
   "outputs": [],
   "source": [
    "@file:DependsOn(\"/antlr-4.11.1-complete.jar\")\n",
    "@file:DependsOn(\"./target\")"
   ]
  },
  {
   "cell_type": "code",
   "execution_count": null,
   "id": "e6178a0d-689f-413a-99b9-f80a09a46bda",
   "metadata": {
    "tags": []
   },
   "outputs": [],
   "source": [
    "import org.antlr.v4.runtime.*\n",
    "import backend.*"
   ]
  },
  {
   "cell_type": "code",
   "execution_count": null,
   "id": "3ea936db-6dda-446e-a5cd-9e61fa521896",
   "metadata": {
    "tags": []
   },
   "outputs": [],
   "source": [
    "fun execute(source:String) {\n",
    "    val errorlistener = object: BaseErrorListener() {\n",
    "        override fun syntaxError(recognizer: Recognizer<*,*>,\n",
    "               offendingSymbol: Any?,\n",
    "               line: Int,\n",
    "               pos: Int,\n",
    "               msg: String,\n",
    "               e: RecognitionException?) {\n",
    "            throw Exception(\"${e} at line:${line}, char:${pos}\")\n",
    "        }\n",
    "    }\n",
    "    val input = CharStreams.fromString(source)\n",
    "    val lexer = PLLexer(input).apply {\n",
    "        removeErrorListeners()\n",
    "        addErrorListener(errorlistener)\n",
    "    }\n",
    "    val tokens = CommonTokenStream(lexer)\n",
    "    val parser = PLParser(tokens).apply {\n",
    "        removeErrorListeners()\n",
    "        addErrorListener(errorlistener)\n",
    "    }    \n",
    "    \n",
    "    try {\n",
    "        val result = parser.program()\n",
    "        result.expr.eval(Runtime())\n",
    "    } catch(e:Exception) {\n",
    "        println(\"Error: ${e}\")\n",
    "    }\n",
    "}"
   ]
  },
  {
   "cell_type": "markdown",
   "id": "c0c11efa-c220-4204-8444-a669bf17c03f",
   "metadata": {
    "tags": []
   },
   "source": [
    "### Setting Values"
   ]
  },
  {
   "cell_type": "code",
   "execution_count": null,
   "id": "1fe9bed7-bf18-4f59-99ab-517ce4e4d25f",
   "metadata": {
    "tags": []
   },
   "outputs": [],
   "source": [
    "val prog1 = \"\"\"\n",
    "String x = \"Test\";\n",
    "Int y = 7 + 10;\n",
    "Boolean z = false\n",
    "\n",
    "print(x)\n",
    "print(y)\n",
    "print(z)\n",
    "\"\"\"\n",
    "execute(prog1)"
   ]
  },
  {
   "cell_type": "code",
   "execution_count": null,
   "id": "a6478537-5517-41c0-9c9c-838c82501819",
   "metadata": {
    "tags": []
   },
   "outputs": [],
   "source": [
    "val invalidprog1 = \"\"\"\n",
    "Int x = \"Incorrect Value\";\n",
    "\"\"\"\n",
    "execute(invalidprog1)"
   ]
  },
  {
   "cell_type": "markdown",
   "id": "9ddb92e5-df15-4d21-b3da-5c60d4bd8cbe",
   "metadata": {},
   "source": [
    "### Reassigning Values"
   ]
  },
  {
   "cell_type": "code",
   "execution_count": null,
   "id": "512e9401-67da-41dc-a6f2-6b3fa2ac5fe1",
   "metadata": {
    "tags": []
   },
   "outputs": [],
   "source": [
    "val prog2 = \"\"\"\n",
    "String x = \"Initial Value\";\n",
    "print(x);\n",
    "x = \"Changed Value\";\n",
    "print(x);\n",
    "\"\"\"\n",
    "execute(prog2)"
   ]
  },
  {
   "cell_type": "code",
   "execution_count": null,
   "id": "2d4cc0d8-d789-48ec-9a61-4cff97909280",
   "metadata": {
    "tags": []
   },
   "outputs": [],
   "source": [
    "val invalidprog2 = \"\"\"\n",
    "String x = \"Initial Value\";\n",
    "x = 12;\n",
    "\"\"\"\n",
    "execute(invalidprog2)"
   ]
  },
  {
   "cell_type": "markdown",
   "id": "10369c8e-8f61-44f3-a2e5-85194c81779a",
   "metadata": {},
   "source": [
    "### Working With Functions"
   ]
  },
  {
   "cell_type": "code",
   "execution_count": 12,
   "id": "3153fe5f-ccb5-47f6-a153-0e7146e60a1c",
   "metadata": {
    "tags": []
   },
   "outputs": [
    {
     "name": "stdout",
     "output_type": "stream",
     "text": [
      "Hi, my name is Albert.\n",
      "How are you?\n"
     ]
    }
   ],
   "source": [
    "val prog3 = \"\"\"\n",
    "function String greeting(String name, String message) {\n",
    "  String x = \"Hi,\";\n",
    "  x = x ++ \" my name is \" ++ name ++ \".\";\n",
    "  print(x);\n",
    "  print(message);\n",
    "}\n",
    "\n",
    "greeting(\"Albert\", \"How are you?\");\n",
    "\"\"\"\n",
    "execute(prog3)"
   ]
  },
  {
   "cell_type": "code",
   "execution_count": 13,
   "id": "4e80983d-7dfd-472f-8588-19c9e06aa955",
   "metadata": {
    "tags": []
   },
   "outputs": [
    {
     "name": "stdout",
     "output_type": "stream",
     "text": [
      "3628800\n"
     ]
    }
   ],
   "source": [
    "val prog4 = \"\"\"\n",
    "function Int factorial(Int n) {\n",
    "  if(n < 2) {\n",
    "    1;\n",
    "  } else {\n",
    "    n * factorial(n-1);\n",
    "  }\n",
    "}\n",
    "\n",
    "print(factorial(10));\n",
    "\"\"\"\n",
    "execute(prog4)"
   ]
  },
  {
   "cell_type": "code",
   "execution_count": 14,
   "id": "481b7233-d7d1-4af0-9417-7ba9c9136c2e",
   "metadata": {
    "tags": []
   },
   "outputs": [
    {
     "name": "stdout",
     "output_type": "stream",
     "text": [
      "Error: java.lang.Exception: Final value of factorial was expecting type Boolean\n"
     ]
    }
   ],
   "source": [
    "val invalidprog3 = \"\"\"\n",
    "function Boolean factorial(Int n) {\n",
    "  if(n < 2) {\n",
    "    1;\n",
    "  } else {\n",
    "    n * factorial(n-1);\n",
    "  }\n",
    "}\n",
    "\n",
    "print(factorial(10));\n",
    "\"\"\"\n",
    "execute(invalidprog3)"
   ]
  },
  {
   "cell_type": "code",
   "execution_count": 15,
   "id": "eb5cd9a4-8e81-4237-8649-097b6ae990a8",
   "metadata": {},
   "outputs": [
    {
     "name": "stdout",
     "output_type": "stream",
     "text": [
      "Error: java.lang.Exception: n was expecting type String\n"
     ]
    }
   ],
   "source": [
    "val invalidprog4 = \"\"\"\n",
    "function Int factorial(String n) {\n",
    "  if(n < 2) {\n",
    "    1;\n",
    "  } else {\n",
    "    n * factorial(n-1);\n",
    "  }\n",
    "}\n",
    "\n",
    "print(factorial(10));\n",
    "\"\"\"\n",
    "execute(invalidprog4)"
   ]
  },
  {
   "cell_type": "code",
   "execution_count": null,
   "id": "52ed5a3c-6312-4820-bfbf-2b587e981dc3",
   "metadata": {},
   "outputs": [],
   "source": []
  }
 ],
 "metadata": {
  "kernelspec": {
   "display_name": "Kotlin",
   "language": "kotlin",
   "name": "kotlin"
  },
  "language_info": {
   "codemirror_mode": "text/x-kotlin",
   "file_extension": ".kt",
   "mimetype": "text/x-kotlin",
   "name": "kotlin",
   "nbconvert_exporter": "",
   "pygments_lexer": "kotlin",
   "version": "1.8.0-dev-707"
  }
 },
 "nbformat": 4,
 "nbformat_minor": 5
}
